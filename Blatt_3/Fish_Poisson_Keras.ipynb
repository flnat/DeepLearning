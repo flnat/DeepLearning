{
 "cells": [
  {
   "cell_type": "markdown",
   "metadata": {
    "colab_type": "text",
    "id": "EIolRLmR2tJc"
   },
   "source": [
    "# Neural Networks for Count Data  xx\n",
    "\n",
    "Redo the Poisson Regression for the fish data set, now with keras. From the previous exercise:\n",
    "\n",
    "## Fish Data Set\n",
    "\n",
    "The following data-set contains the number of Fish a group of camper caught in a state park (taken from https://stats.idre.ucla.edu/r/dae/zip/). Your task here is to predict the number of fish $y$ caught by a fishing party. We have a small data set, of 250 groups, which visited a state park and provided the following information: \n",
    "\n",
    "* how many people are in the group\n",
    "* the number children in the group\n",
    "* the use of live bait\n",
    "* whether the group came with a camper to the park. \n",
    "\n",
    "Split the data set into a training set and testset. Use the first 200 entries for training, the remaining 50 for testing. See below for code how to read the data."
   ]
  },
  {
   "cell_type": "code",
   "execution_count": 1,
   "metadata": {
    "colab": {},
    "colab_type": "code",
    "id": "YsAt_vDL3jFG"
   },
   "outputs": [],
   "source": [
    "import matplotlib.pyplot as plt\n",
    "import numpy as np\n",
    "import pandas as pd\n"
   ]
  },
  {
   "cell_type": "code",
   "execution_count": 2,
   "metadata": {
    "colab": {
     "base_uri": "https://localhost:8080/",
     "height": 111
    },
    "colab_type": "code",
    "id": "8zoZAYtO4FHE",
    "outputId": "5ad02e25-b532-47fa-b8af-7af9e8b7a650"
   },
   "outputs": [
    {
     "data": {
      "text/plain": "     0    1    2    3\n0  1.0  0.0  4.0  0.0\n1  1.0  1.0  2.0  0.0",
      "text/html": "<div>\n<style scoped>\n    .dataframe tbody tr th:only-of-type {\n        vertical-align: middle;\n    }\n\n    .dataframe tbody tr th {\n        vertical-align: top;\n    }\n\n    .dataframe thead th {\n        text-align: right;\n    }\n</style>\n<table border=\"1\" class=\"dataframe\">\n  <thead>\n    <tr style=\"text-align: right;\">\n      <th></th>\n      <th>0</th>\n      <th>1</th>\n      <th>2</th>\n      <th>3</th>\n    </tr>\n  </thead>\n  <tbody>\n    <tr>\n      <th>0</th>\n      <td>1.0</td>\n      <td>0.0</td>\n      <td>4.0</td>\n      <td>0.0</td>\n    </tr>\n    <tr>\n      <th>1</th>\n      <td>1.0</td>\n      <td>1.0</td>\n      <td>2.0</td>\n      <td>0.0</td>\n    </tr>\n  </tbody>\n</table>\n</div>"
     },
     "execution_count": 2,
     "metadata": {},
     "output_type": "execute_result"
    }
   ],
   "source": [
    "# from sklearn.model_selection import train_test_split\n",
    "# X_train, X_test, y_train, y_test = train_test_split(X, y, test_size=0.2, random_state=42,shuffle=True)\n",
    "# np.savez('fishing.npz', X_train=X_train, X_test=X_test, y_train=y_train, y_test=y_test)\n",
    "#https://github.com/ioskn/mldl_htwg/raw/master/data/fishing.npz\n",
    "import os\n",
    "from urllib.request import urlretrieve\n",
    "\n",
    "if not os.path.isfile('fishing.npz'):\n",
    "    print(\"Downloading\")\n",
    "    urlretrieve('http://www-home.htwg-konstanz.de/~oduerr/data/fishing.npz', filename='fishing.npz')\n",
    "d = np.load('fishing.npz')\n",
    "X_train = d['Xt']  #\"livebait\",\"camper\",\"persons\",\"child\"\n",
    "X_test = d['Xte']\n",
    "y_train = d['yt']\n",
    "y_test = d['yte']\n",
    "pd.DataFrame(X_train[0:2])"
   ]
  },
  {
   "cell_type": "markdown",
   "metadata": {
    "colab_type": "text",
    "id": "4-uaG92sPBXg"
   },
   "source": [
    "## Results from the Machine Learning excercise, we had. "
   ]
  },
  {
   "cell_type": "markdown",
   "metadata": {
    "colab_type": "text",
    "id": "_uiqzQZnChZ_"
   },
   "source": [
    "### LinearRegression"
   ]
  },
  {
   "cell_type": "code",
   "execution_count": 3,
   "metadata": {
    "colab": {
     "base_uri": "https://localhost:8080/",
     "height": 34
    },
    "colab_type": "code",
    "id": "lFLrY1YtNClk",
    "outputId": "d7779272-1b27-4096-e4ec-697001f2bc7e"
   },
   "outputs": [
    {
     "data": {
      "text/plain": "array([-8.49222821,  2.4822138 ,  2.95430727,  4.64953914, -5.47160051])"
     },
     "execution_count": 3,
     "metadata": {},
     "output_type": "execute_result"
    }
   ],
   "source": [
    "from sklearn.linear_model import LinearRegression\n",
    "\n",
    "Xd = np.hstack([np.ones((X_train.shape[0], 1)), X_train])\n",
    "pd.DataFrame(Xd[0:2])\n",
    "Xdt = np.hstack([np.ones((X_test.shape[0], 1)), X_test])\n",
    "X_train.shape, Xd.shape\n",
    "model_skl = LinearRegression(fit_intercept=False)\n",
    "res = model_skl.fit(Xd, y_train)\n",
    "res.coef_"
   ]
  },
  {
   "cell_type": "markdown",
   "metadata": {
    "colab_type": "text",
    "id": "pNIUUugxPmSZ"
   },
   "source": [
    "#### RMSE and NLL\n",
    "Determine the Root Mean Square Error (RMSE) and the average negative log-likelihood (NLL) on the testset. For NLL we assume that the conditional probability distrubution (CPD) $p(y|x)$ is given by the density of a Gaussian with constant variance $\\sigma^2$. Estimate $\\sigma^2$ using the variance of the residuals. Use the variance estimation with $1/N$. \n"
   ]
  },
  {
   "cell_type": "code",
   "execution_count": 4,
   "metadata": {
    "colab": {
     "base_uri": "https://localhost:8080/",
     "height": 34
    },
    "colab_type": "code",
    "id": "hmtWgh0xPYca",
    "outputId": "44bf40a7-3fab-4e7a-9eee-6cc466a1980a"
   },
   "outputs": [
    {
     "data": {
      "text/plain": "(8.588126386734231, 73.75591483452077, (50, 5))"
     },
     "execution_count": 4,
     "metadata": {},
     "output_type": "execute_result"
    }
   ],
   "source": [
    "ypred = model_skl.predict(Xdt)\n",
    "#ypred = np.ones_like(y_test) * np.median(y_train)\n",
    "sigma_hat_2 = np.mean((y_test - ypred.flatten()) ** 2)\n",
    "np.sqrt(sigma_hat_2), sigma_hat_2, Xdt.shape"
   ]
  },
  {
   "cell_type": "code",
   "execution_count": 5,
   "metadata": {
    "colab": {
     "base_uri": "https://localhost:8080/",
     "height": 34
    },
    "colab_type": "code",
    "id": "MLg_A70-QbJr",
    "outputId": "a57c6bb0-cd23-44d1-bf60-2656a62a3ceb"
   },
   "outputs": [
    {
     "data": {
      "text/plain": "3.5693191297796893"
     },
     "execution_count": 5,
     "metadata": {},
     "output_type": "execute_result"
    }
   ],
   "source": [
    "0.5 * np.log(2 * np.pi * sigma_hat_2) + 0.5 * np.mean((y_test - ypred.flatten()) ** 2) / sigma_hat_2"
   ]
  },
  {
   "cell_type": "markdown",
   "metadata": {
    "colab_type": "text",
    "id": "PLl18uW6D507"
   },
   "source": [
    "#### Comparison with test set"
   ]
  },
  {
   "cell_type": "markdown",
   "metadata": {
    "colab_type": "text",
    "id": "nCJHxadORefq"
   },
   "source": [
    "For the testset: plot the mean of the predicted number of fish caught against observed number of fish caught. Further include the 2.5 and 97.25 precentile of p(y|x), the conditional predictive distribution (CPD) of $y$ for a given $x$. Why is a Gaussian not ideal for that kind of data? For the Gaussian the 2.5% and the 97.5% percentile is approximatiy given by $\\mu \\pm 1.96*\\sigma$"
   ]
  },
  {
   "cell_type": "code",
   "execution_count": 6,
   "metadata": {
    "colab": {
     "base_uri": "https://localhost:8080/",
     "height": 295
    },
    "colab_type": "code",
    "id": "f51ByX5wSjPa",
    "outputId": "2fce8f60-ebdb-493a-f3a9-6950c7f0bae0"
   },
   "outputs": [
    {
     "data": {
      "text/plain": "<Figure size 640x480 with 1 Axes>",
      "image/png": "[encoded data removed]"
     },
     "metadata": {},
     "output_type": "display_data"
    }
   ],
   "source": [
    "plt.scatter(ypred, y_test, alpha=0.3)\n",
    "sort_idx = np.argsort(ypred, axis=0)\n",
    "plt.plot(ypred[sort_idx].flatten(), ypred[sort_idx].flatten() + 1.96 * np.sqrt(sigma_hat_2), linestyle='dashed',\n",
    "         c=\"black\")\n",
    "plt.plot(ypred[sort_idx].flatten(), ypred[sort_idx].flatten() - 1.96 * np.sqrt(sigma_hat_2), linestyle='dashed',\n",
    "         c=\"black\")\n",
    "plt.plot(ypred, ypred, c=\"black\")\n",
    "plt.title('Comparison on the testset')\n",
    "plt.xlabel('predicted average of caught fish')\n",
    "plt.ylabel('observed number of caught fish')\n",
    "plt.xlim(-5, 15)\n",
    "plt.ylim(-5, 15)\n",
    "plt.show()"
   ]
  },
  {
   "cell_type": "markdown",
   "metadata": {
    "colab_type": "text",
    "id": "XXsavhRVU4BJ"
   },
   "source": [
    "### Poisson\n",
    "\n",
    "This data is count data. Count data has only positive values and also the distribution is discrete. You cannot catch 0.5 fish and that the CPD has probability on negative number of fish is fishy too. A Gaussian as a CPD is therefore not ideal. Now use a Poissonian as CPD. If we assume a Poissonian then the probability to catch $k$ fish is given by \n",
    "$$\n",
    "  p(k) = \\exp(-\\mu) \\frac{\\mu^k}{k!}\n",
    "$$\n",
    "\n",
    "and the NLL is thus by:\n",
    "\n",
    "$$\n",
    " log(p(k)) = -\\mu  + k \\cdot \\log(\\mu) - log(k!)\n",
    "$$\n",
    "\n",
    "with $\\mu$ being the expectation. In our case the average number of fish expected.\n",
    "\n",
    "In the case of the probabilistic interpretation of the linear regression, $y_i$ for a given $x_i$ is distributed like a Gaussian. The paramter $\\mu_i$ from $N(\\mu_i,\\sigma^2)$ has been determined from $x_i$ via $\\mu_i= \\beta^T \\cdot x_i$. Nown in the Poissonian, $\\mu_i$ needs to be positive. We therefore pipe $\\beta^T \\cdot x_i$ through an exponential first to make it positive and can so determine $\\mu_i=exp(\\beta^T \\cdot x_i)$.\n",
    "\n",
    "Use a gradient descent approach to find the solution for the parameters. Calculate the RMSE and the NLL on the test set.\n",
    "\n",
    "Hint: On the trainingset the NLL for the parameter values (1,1,1,1,1) should be approx 1508 and the gradient "
   ]
  },
  {
   "cell_type": "code",
   "execution_count": 7,
   "metadata": {
    "colab": {
     "base_uri": "https://localhost:8080/",
     "height": 34
    },
    "colab_type": "code",
    "id": "HL_GpshBU4BJ",
    "outputId": "1560dedc-f3e6-4455-f474-b90e0c150657"
   },
   "outputs": [
    {
     "data": {
      "text/plain": "1507.9856602262082"
     },
     "execution_count": 7,
     "metadata": {},
     "output_type": "execute_result"
    }
   ],
   "source": [
    "def NLL(y_train, Xd, w):\n",
    "    mu = np.exp(np.matmul(Xd, w))\n",
    "    ret = np.zeros_like(mu)\n",
    "    for i in range(ret.shape[0]):\n",
    "        ret[i] = mu[i] - y_train[i] * np.log(mu[i]) + np.log(1.0 * np.math.factorial(y_train[i].astype(int)))\n",
    "    return np.mean(ret)\n",
    "\n",
    "\n",
    "w = np.ones(5)\n",
    "NLL(y_train, Xd, w)"
   ]
  },
  {
   "cell_type": "code",
   "execution_count": 8,
   "metadata": {
    "colab": {
     "base_uri": "https://localhost:8080/",
     "height": 34
    },
    "colab_type": "code",
    "id": "LwpfoYG-U4BL",
    "outputId": "3cf4dd06-24bf-417e-dbb3-679193216af5"
   },
   "outputs": [
    {
     "data": {
      "text/plain": "array([-1518.61, -1403.99, -1171.02, -5701.91, -3258.7 ])"
     },
     "execution_count": 8,
     "metadata": {},
     "output_type": "execute_result"
    }
   ],
   "source": [
    "def gradNLL(y_train, Xd, w):\n",
    "    mu = np.exp(np.matmul(Xd, w))\n",
    "    #print(mu.shape)\n",
    "    ret = np.zeros_like(Xd)\n",
    "    for i in range(Xd.shape[0]):\n",
    "        mux = Xd[i] * mu[i]\n",
    "        ret[i] = -mux + y_train[i] * Xd[i]\n",
    "    return np.mean(ret, axis=0)\n",
    "\n",
    "\n",
    "NLL(y_train, Xd, np.ones(5))\n",
    "np.round(gradNLL(y_train, Xd, np.ones(5)), 2)\n",
    "#1518.61, 1403.99, 1171.02, 5701.91, 3258.7"
   ]
  },
  {
   "cell_type": "code",
   "execution_count": 9,
   "metadata": {
    "colab": {
     "base_uri": "https://localhost:8080/",
     "height": 68
    },
    "colab_type": "code",
    "id": "DjXqvYyqU4BN",
    "outputId": "5184b8fa-b50a-436c-c8a1-8c831306fc26"
   },
   "outputs": [
    {
     "name": "stderr",
     "output_type": "stream",
     "text": [
      "100%|██████████| 10000/10000 [00:25<00:00, 385.26it/s]\n"
     ]
    },
    {
     "data": {
      "text/plain": "(array([-1.74007527,  0.56500613,  0.66091814,  0.93220074, -1.62023821]),\n 3.3806067025761606)"
     },
     "execution_count": 9,
     "metadata": {},
     "output_type": "execute_result"
    }
   ],
   "source": [
    "from tqdm import tqdm\n",
    "\n",
    "w = np.ones(5)\n",
    "hist = []\n",
    "for i in tqdm(range(10000)):\n",
    "    if (i % 10 == 0):\n",
    "        hist.append(NLL(y_train, Xd, w))\n",
    "    w = w + 0.001 * gradNLL(y_train, Xd, w)\n",
    "w, NLL(y_train, Xd, w)"
   ]
  },
  {
   "cell_type": "code",
   "execution_count": 10,
   "metadata": {
    "colab": {
     "base_uri": "https://localhost:8080/",
     "height": 286
    },
    "colab_type": "code",
    "id": "tRV1sLkQU4BO",
    "outputId": "88b17695-3df7-49c9-ce6b-87f30da200ed"
   },
   "outputs": [
    {
     "data": {
      "text/plain": "(0.0, 5.0)"
     },
     "execution_count": 10,
     "metadata": {},
     "output_type": "execute_result"
    },
    {
     "data": {
      "text/plain": "<Figure size 640x480 with 1 Axes>",
      "image/png": "[encoded data removed]"
     },
     "metadata": {},
     "output_type": "display_data"
    }
   ],
   "source": [
    "plt.plot(hist)\n",
    "plt.ylim(0, 5)"
   ]
  },
  {
   "cell_type": "code",
   "execution_count": 11,
   "metadata": {
    "colab": {
     "base_uri": "https://localhost:8080/",
     "height": 34
    },
    "colab_type": "code",
    "id": "j-HhXc7GU4BQ",
    "outputId": "d2743421-6e15-4202-9b28-a02fb7d3d842"
   },
   "outputs": [
    {
     "data": {
      "text/plain": "(7.389176645536158, 2.8768358338221574)"
     },
     "execution_count": 11,
     "metadata": {},
     "output_type": "execute_result"
    }
   ],
   "source": [
    "mupred = np.exp(np.matmul(Xdt, w))\n",
    "np.sqrt(np.mean((mupred - y_test) ** 2)), NLL(y_test, Xdt, w)"
   ]
  },
  {
   "cell_type": "markdown",
   "metadata": {
    "colab_type": "text",
    "id": "rtumKjuJEVKE"
   },
   "source": [
    "## A) Poisson Regression using a NN build with Keras\n",
    "\n",
    "Redo the analysis from above using Keras. You may (but don't have to) use tfp."
   ]
  },
  {
   "cell_type": "code",
   "execution_count": 3,
   "metadata": {
    "colab": {},
    "colab_type": "code",
    "id": "z4hUQh2aHFje"
   },
   "outputs": [],
   "source": [
    "import tensorflow as tf\n",
    "import tensorflow_probability as tfp\n",
    "from tensorflow import keras"
   ]
  },
  {
   "cell_type": "code",
   "execution_count": 48,
   "metadata": {},
   "outputs": [],
   "source": [
    "inputs = keras.Input((X_train.shape[1],))\n",
    "rate = keras.layers.Dense(32, activation = \"relu\") (inputs)\n",
    "rate = keras.layers.Dense(16, activation=\"relu\") (rate)\n",
    "rate = keras.layers.Dense(1, activation=tf.keras.activations.softplus)(rate)\n",
    "p_y = tfp.layers.DistributionLambda(tfp.distributions.Poisson)(rate)\n",
    "\n",
    "model = keras.Model(inputs, p_y)\n",
    "model.compile(optimizer=keras.optimizers.Adam(learning_rate=1e-2)\n",
    "              , loss=lambda y_true, dist: -dist.log_prob(y_true))"
   ]
  },
  {
   "cell_type": "code",
   "execution_count": 33,
   "outputs": [
    {
     "name": "stdout",
     "output_type": "stream",
     "text": [
      "Model: \"model_6\"\n",
      "_________________________________________________________________\n",
      " Layer (type)                Output Shape              Param #   \n",
      "=================================================================\n",
      " input_7 (InputLayer)        [(None, 4)]               0         \n",
      "                                                                 \n",
      " dense_8 (Dense)             (None, 32)                160       \n",
      "                                                                 \n",
      " dense_9 (Dense)             (None, 16)                528       \n",
      "                                                                 \n",
      " dense_10 (Dense)            (None, 1)                 17        \n",
      "                                                                 \n",
      " distribution_lambda_6 (Dist  ((None, 1),              0         \n",
      " ributionLambda)              (None, 1))                         \n",
      "                                                                 \n",
      "=================================================================\n",
      "Total params: 705\n",
      "Trainable params: 705\n",
      "Non-trainable params: 0\n",
      "_________________________________________________________________\n"
     ]
    }
   ],
   "source": [
    "model.summary()"
   ],
   "metadata": {
    "collapsed": false
   }
  },
  {
   "cell_type": "code",
   "execution_count": 49,
   "outputs": [
    {
     "name": "stdout",
     "output_type": "stream",
     "text": [
      "Epoch 1/500\n",
      "7/7 [==============================] - 2s 101ms/step - loss: 7.0990 - val_loss: 5.8293\n",
      "Epoch 2/500\n",
      "7/7 [==============================] - 0s 13ms/step - loss: 5.5879 - val_loss: 5.4400\n",
      "Epoch 3/500\n",
      "7/7 [==============================] - 0s 13ms/step - loss: 5.2431 - val_loss: 4.8753\n",
      "Epoch 4/500\n",
      "7/7 [==============================] - 0s 13ms/step - loss: 4.8572 - val_loss: 4.4969\n",
      "Epoch 5/500\n",
      "7/7 [==============================] - 0s 14ms/step - loss: 4.6677 - val_loss: 4.6779\n",
      "Epoch 6/500\n",
      "7/7 [==============================] - 0s 15ms/step - loss: 4.5499 - val_loss: 4.3844\n",
      "Epoch 7/500\n",
      "7/7 [==============================] - 0s 15ms/step - loss: 4.4450 - val_loss: 4.1822\n",
      "Epoch 8/500\n",
      "7/7 [==============================] - 0s 16ms/step - loss: 4.3086 - val_loss: 4.1888\n",
      "Epoch 9/500\n",
      "7/7 [==============================] - 0s 12ms/step - loss: 4.2485 - val_loss: 3.9857\n",
      "Epoch 10/500\n",
      "7/7 [==============================] - 0s 14ms/step - loss: 4.1791 - val_loss: 3.7444\n",
      "Epoch 11/500\n",
      "7/7 [==============================] - 0s 12ms/step - loss: 4.1680 - val_loss: 4.0894\n",
      "Epoch 12/500\n",
      "7/7 [==============================] - 0s 12ms/step - loss: 4.0882 - val_loss: 3.7236\n",
      "Epoch 13/500\n",
      "7/7 [==============================] - 0s 13ms/step - loss: 3.9819 - val_loss: 3.5892\n",
      "Epoch 14/500\n",
      "7/7 [==============================] - 0s 13ms/step - loss: 3.9309 - val_loss: 3.7556\n",
      "Epoch 15/500\n",
      "7/7 [==============================] - 0s 13ms/step - loss: 3.8826 - val_loss: 3.6579\n",
      "Epoch 16/500\n",
      "7/7 [==============================] - 0s 14ms/step - loss: 3.8909 - val_loss: 3.5387\n",
      "Epoch 17/500\n",
      "7/7 [==============================] - 0s 14ms/step - loss: 4.0237 - val_loss: 3.4588\n",
      "Epoch 18/500\n",
      "7/7 [==============================] - 0s 12ms/step - loss: 3.9661 - val_loss: 3.9525\n",
      "Epoch 19/500\n",
      "7/7 [==============================] - 0s 21ms/step - loss: 3.7649 - val_loss: 3.3145\n",
      "Epoch 20/500\n",
      "7/7 [==============================] - 0s 26ms/step - loss: 3.9862 - val_loss: 3.5789\n",
      "Epoch 21/500\n",
      "7/7 [==============================] - 0s 22ms/step - loss: 4.0422 - val_loss: 4.0658\n",
      "Epoch 22/500\n",
      "7/7 [==============================] - 0s 24ms/step - loss: 3.9760 - val_loss: 3.2522\n",
      "Epoch 23/500\n",
      "7/7 [==============================] - 0s 21ms/step - loss: 3.8017 - val_loss: 4.1009\n",
      "Epoch 24/500\n",
      "7/7 [==============================] - 0s 23ms/step - loss: 3.8261 - val_loss: 3.4559\n",
      "Epoch 25/500\n",
      "7/7 [==============================] - 0s 23ms/step - loss: 3.6424 - val_loss: 3.4635\n",
      "Epoch 26/500\n",
      "7/7 [==============================] - 0s 24ms/step - loss: 3.6474 - val_loss: 3.5997\n",
      "Epoch 27/500\n",
      "7/7 [==============================] - 0s 23ms/step - loss: 3.6902 - val_loss: 3.5766\n",
      "Epoch 28/500\n",
      "7/7 [==============================] - 0s 19ms/step - loss: 3.5864 - val_loss: 3.3272\n",
      "Epoch 29/500\n",
      "7/7 [==============================] - 0s 11ms/step - loss: 3.7343 - val_loss: 3.3558\n",
      "Epoch 30/500\n",
      "7/7 [==============================] - 0s 11ms/step - loss: 3.5809 - val_loss: 3.5600\n",
      "Epoch 31/500\n",
      "7/7 [==============================] - 0s 11ms/step - loss: 3.6504 - val_loss: 3.5894\n",
      "Epoch 32/500\n",
      "7/7 [==============================] - 0s 12ms/step - loss: 3.8080 - val_loss: 3.3475\n"
     ]
    }
   ],
   "source": [
    "history = model.fit(X_train, y_train, validation_data=(X_test, y_test), epochs=500, callbacks=[keras.callbacks.EarlyStopping(patience=10, restore_best_weights=True)])"
   ],
   "metadata": {
    "collapsed": false
   }
  },
  {
   "cell_type": "code",
   "execution_count": 35,
   "outputs": [
    {
     "data": {
      "text/plain": "<Figure size 640x480 with 2 Axes>",
      "image/png": "[encoded data removed]"
     },
     "metadata": {},
     "output_type": "display_data"
    }
   ],
   "source": [
    "import seaborn as sns\n",
    "\n",
    "fig, axs = plt.subplots(1, 2)\n",
    "\n",
    "sns.lineplot(history.history[\"loss\"], ax=axs[0])\n",
    "sns.lineplot(history.history[\"val_loss\"], ax=axs[1])\n",
    "\n",
    "axs[0].set_title(\"Training Loss\")\n",
    "axs[1].set_title(\"Validation Loss\")\n",
    "axs[0].set_xlabel(\"Epochs\")\n",
    "axs[1].set_xlabel(\"Epochs\")\n",
    "axs[0].set_ylabel(\"NLL\")\n",
    "axs[1].set_ylabel(\"NLL\")\n",
    "\n",
    "fig.suptitle(\"Loss Curves\")\n",
    "fig.tight_layout()\n",
    "plt.show()"
   ],
   "metadata": {
    "collapsed": false
   }
  },
  {
   "cell_type": "code",
   "execution_count": null,
   "outputs": [],
   "source": [
    "# Comparison with numpy solution\n",
    "def poisson_nll(y_true, rate):\n",
    "    eps = 1e-4  # wegen numerischer Stabilität\n",
    "    ret = np.zeros_like(rate)\n",
    "    for i in range(ret.shape[0]):\n",
    "        ret[i] = rate[i] - y_true[i] * np.log(rate[i] + eps) + np.log(1.0 * np.math.factorial(y_true[i].astype(int)))\n",
    "    return np.mean(ret)\n",
    "\n",
    "\n",
    "print(f\"NLL on Test Set with Keras: {model.evaluate(X_test, y_test):.2f}\")\n",
    "print(f\"NLL on Test Set with numpy: {NLL(y_test, Xdt, w):.2f}\")"
   ],
   "metadata": {
    "collapsed": false,
    "pycharm": {
     "is_executing": true
    }
   }
  },
  {
   "cell_type": "code",
   "execution_count": 30,
   "outputs": [],
   "source": [
    "def NLL(y_train, Xd, w):\n",
    "    mu = np.exp(np.matmul(Xd, w))\n",
    "    ret = np.zeros_like(mu)\n",
    "    for i in range(ret.shape[0]):\n",
    "        ret[i] = mu[i] - y_train[i] * np.log(mu[i]) + np.log(1.0 * np.math.factorial(y_train[i].astype(int)))\n",
    "    return np.mean(ret)"
   ],
   "metadata": {
    "collapsed": false
   }
  }
 ],
 "metadata": {
  "colab": {
   "collapsed_sections": [],
   "name": "Fish_Poisson_Keras.ipynb",
   "provenance": [],
   "toc_visible": true
  },
  "kernelspec": {
   "display_name": "Python 3",
   "language": "python",
   "name": "python3"
  },
  "language_info": {
   "codemirror_mode": {
    "name": "ipython",
    "version": 3
   },
   "file_extension": ".py",
   "mimetype": "text/x-python",
   "name": "python",
   "nbconvert_exporter": "python",
   "pygments_lexer": "ipython3",
   "version": "3.6.8"
  }
 },
 "nbformat": 4,
 "nbformat_minor": 1
}
